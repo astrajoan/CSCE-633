{
  "nbformat": 4,
  "nbformat_minor": 0,
  "metadata": {
    "colab": {
      "name": "Homework4.ipynb",
      "provenance": [],
      "collapsed_sections": [
        "iC-CugLbPPAR",
        "unjvIvCNl2-t",
        "JpyBRt1GjcXD"
      ],
      "toc_visible": true
    },
    "kernelspec": {
      "name": "python3",
      "display_name": "Python 3"
    }
  },
  "cells": [
    {
      "cell_type": "markdown",
      "metadata": {
        "id": "aBN90IxilbUH"
      },
      "source": [
        "# Import all necessary libraries"
      ]
    },
    {
      "cell_type": "code",
      "metadata": {
        "id": "2hRaSB87ZPbn",
        "outputId": "9b06f70f-0af9-4395-834b-cd2bc9daa30d",
        "colab": {
          "base_uri": "https://localhost:8080/"
        }
      },
      "source": [
        "!pip install pyitlib"
      ],
      "execution_count": 11,
      "outputs": [
        {
          "output_type": "stream",
          "text": [
            "Collecting pyitlib\n",
            "  Downloading https://files.pythonhosted.org/packages/22/52/f79a6fc5c7d22cb67bdedfe3c791015021aea2d1d0307bf1ac81f3a10188/pyitlib-0.2.2.tar.gz\n",
            "Requirement already satisfied: pandas>=0.20.2numpy>=1.9.2 in /usr/local/lib/python3.6/dist-packages (from pyitlib) (1.1.3)\n",
            "Requirement already satisfied: scikit-learn>=0.16.0 in /usr/local/lib/python3.6/dist-packages (from pyitlib) (0.22.2.post1)\n",
            "Requirement already satisfied: scipy>=1.0.1 in /usr/local/lib/python3.6/dist-packages (from pyitlib) (1.4.1)\n",
            "Requirement already satisfied: future>=0.16.0 in /usr/local/lib/python3.6/dist-packages (from pyitlib) (0.16.0)\n",
            "Requirement already satisfied: pytz>=2017.2 in /usr/local/lib/python3.6/dist-packages (from pandas>=0.20.2numpy>=1.9.2->pyitlib) (2018.9)\n",
            "Requirement already satisfied: numpy>=1.15.4 in /usr/local/lib/python3.6/dist-packages (from pandas>=0.20.2numpy>=1.9.2->pyitlib) (1.18.5)\n",
            "Requirement already satisfied: python-dateutil>=2.7.3 in /usr/local/lib/python3.6/dist-packages (from pandas>=0.20.2numpy>=1.9.2->pyitlib) (2.8.1)\n",
            "Requirement already satisfied: joblib>=0.11 in /usr/local/lib/python3.6/dist-packages (from scikit-learn>=0.16.0->pyitlib) (0.17.0)\n",
            "Requirement already satisfied: six>=1.5 in /usr/local/lib/python3.6/dist-packages (from python-dateutil>=2.7.3->pandas>=0.20.2numpy>=1.9.2->pyitlib) (1.15.0)\n",
            "Building wheels for collected packages: pyitlib\n",
            "  Building wheel for pyitlib (setup.py) ... \u001b[?25l\u001b[?25hdone\n",
            "  Created wheel for pyitlib: filename=pyitlib-0.2.2-cp36-none-any.whl size=28503 sha256=b3789da30572425b7402f19bca38de53060735010e9df389d6c7658224a70dd7\n",
            "  Stored in directory: /root/.cache/pip/wheels/1c/f8/41/f4b4e777dd6ea714f2c4900367fb479e9fca0eb000c46e73f3\n",
            "Successfully built pyitlib\n",
            "Installing collected packages: pyitlib\n",
            "Successfully installed pyitlib-0.2.2\n"
          ],
          "name": "stdout"
        }
      ]
    },
    {
      "cell_type": "code",
      "metadata": {
        "id": "3nmGhWRdlLQc"
      },
      "source": [
        "import numpy as np\n",
        "import csv\n",
        "import matplotlib.pyplot as plt\n",
        "from google.colab import files\n",
        "import math\n",
        "import itertools\n",
        "\n",
        "from sklearn import tree\n",
        "from sklearn.ensemble import RandomForestClassifier\n",
        "\n",
        "from pyitlib import discrete_random_variable as drv"
      ],
      "execution_count": 12,
      "outputs": []
    },
    {
      "cell_type": "markdown",
      "metadata": {
        "id": "-KDwbU5mnMBG"
      },
      "source": [
        "# Functions and data"
      ]
    },
    {
      "cell_type": "markdown",
      "metadata": {
        "id": "Xgm6ZixrnPBK"
      },
      "source": [
        "### Functions"
      ]
    },
    {
      "cell_type": "code",
      "metadata": {
        "id": "47YdJxuJnRQJ"
      },
      "source": [
        "def importFile(filename):\n",
        "  datafile = csv.reader(open(filename,'r'))\n",
        "  data = []\n",
        "  label = []\n",
        "\n",
        "  for idx, row in enumerate(datafile):\n",
        "    data.append(row[:-1])\n",
        "    label.append(float(row[-1]))\n",
        "  \n",
        "  for idx, row in enumerate(data):\n",
        "    data[idx] = [float(ele) for ele in row]\n",
        "\n",
        "  return np.array(data), np.array(label)\n",
        "\n",
        "def cndtEntropy(feature,label,printNum):\n",
        "  featureValue = np.unique(feature)\n",
        "  infoEntropyFeature = []\n",
        "\n",
        "  for i in featureValue:\n",
        "    index = np.where(feature==i)[0]\n",
        "\n",
        "    labelI = label[index]\n",
        "\n",
        "    malignantNum = len(np.where(labelI==4)[0])\n",
        "    benignNum = len(np.where(labelI==2)[0])\n",
        "    totalNum = malignantNum + benignNum\n",
        "    if totalNum != len(index):\n",
        "      print(\"Wrong calculation!\")\n",
        "\n",
        "    if printNum == True:\n",
        "      print(\"Malignant number: {}\".format(malignantNum))\n",
        "      print(\"Benign number: {}\".format(benignNum))\n",
        "      print(\"=========================\")\n",
        "      \n",
        "    if malignantNum == 0 or benignNum == 0:\n",
        "      infoEntropy = 0\n",
        "    else:\n",
        "      infoEntropy = -((malignantNum/totalNum)*math.log2(malignantNum/totalNum) + \n",
        "                    (benignNum/totalNum)*math.log2(benignNum/totalNum))\n",
        "    \n",
        "    infoEntropyFeature.append([infoEntropy,totalNum])\n",
        "  \n",
        "  infoEntropyFeature = np.array(infoEntropyFeature)\n",
        "  infoEntropyFeature[:,1] = infoEntropyFeature[:,1]/len(feature)\n",
        "  if printNum == True:\n",
        "    print(infoEntropyFeature)\n",
        "    print(np.sum(infoEntropyFeature[:,1]))\n",
        "  \n",
        "  conditionEntropy = np.matmul(infoEntropyFeature[:,0],infoEntropyFeature[:,1])\n",
        "\n",
        "  return conditionEntropy\n",
        "\n",
        "def setdiff_nd_positivenums(a,b):\n",
        "    s = np.maximum(a.max(0)+1,b.max(0)+1)\n",
        "    return a[~np.isin(a.dot(s),b.dot(s))]\n",
        "\n",
        "def splitData(data,label,i):\n",
        "  n = data.shape[0]\n",
        "  groupSize = int(np.floor(n/5))\n",
        "\n",
        "  val = data[groupSize*i:(groupSize*(i+1)+3),:]\n",
        "  labelVal = label[groupSize*i:groupSize*(i+1)+3]\n",
        "\n",
        "  # train = np.array([line for line in data if line not in val])\n",
        "  # labelTrain = np.array([line for line in label if line not in labelVal])\n",
        "  train = np.concatenate((data[0:groupSize*i,:],data[groupSize*(i+1)+3:,:]),axis=0)\n",
        "  labelTrain = np.concatenate((label[0:groupSize*i],label[groupSize*(i+1)+3:]),axis=0)\n",
        "\n",
        "  return train, labelTrain, val, labelVal\n"
      ],
      "execution_count": 13,
      "outputs": []
    },
    {
      "cell_type": "markdown",
      "metadata": {
        "id": "iC-CugLbPPAR"
      },
      "source": [
        "### Data"
      ]
    },
    {
      "cell_type": "code",
      "metadata": {
        "id": "WEFRZZH-PQMM"
      },
      "source": [
        "data, label = importFile('hw4_train.csv')\n",
        "dataTest, labelTest = importFile('hw4_test.csv')\n",
        "# print(data.shape[1])\n",
        "# print(dataTest.shape)"
      ],
      "execution_count": 14,
      "outputs": []
    },
    {
      "cell_type": "markdown",
      "metadata": {
        "id": "unjvIvCNl2-t"
      },
      "source": [
        "# Histogram"
      ]
    },
    {
      "cell_type": "code",
      "metadata": {
        "id": "vJnvkZUVmuL-",
        "outputId": "42d2e24b-b145-4e9a-f6e7-de20cd81ee8b",
        "colab": {
          "base_uri": "https://localhost:8080/",
          "height": 1000
        }
      },
      "source": [
        "features = ['Clump Thickness','Uniformity of Cell Size','Uniformity of Cell Shape','Marginal Adhesion',\n",
        "            'Single Epithelial Cell Size','Bare Nuclei','Bland Chromatin','Normal Nucleoli',\n",
        "            'Mitoses']\n",
        "plt.figure(figsize=(3*6,4*7))\n",
        "for i in range(data.shape[1]+1):\n",
        "  plt.subplot(4,3,i+1)\n",
        "  if i == 0:\n",
        "    plt.hist(label,bins=2,range=[2,4],fill=False,linewidth=1.6)\n",
        "    plt.title('Label')\n",
        "  else:\n",
        "    plt.hist(data[:,i-1],bins=range(1,11,1),fill=False,width=1,linewidth=1.61)\n",
        "    plt.title('Feature: '+features[i-1])\n",
        "  plt.grid(axis='both')\n",
        "plt.savefig(\"Histogram.png\",dpi=160)\n",
        "files.download(\"Histogram.png\")\n",
        "\n",
        "benign = len(np.where(label==2)[0])\n",
        "malignant = len(np.where(label==4)[0])\n",
        "\n",
        "print(benign)\n",
        "print(\"\\n\\n\")\n",
        "print(malignant)\n",
        "  "
      ],
      "execution_count": null,
      "outputs": [
        {
          "output_type": "display_data",
          "data": {
            "application/javascript": [
              "\n",
              "    async function download(id, filename, size) {\n",
              "      if (!google.colab.kernel.accessAllowed) {\n",
              "        return;\n",
              "      }\n",
              "      const div = document.createElement('div');\n",
              "      const label = document.createElement('label');\n",
              "      label.textContent = `Downloading \"${filename}\": `;\n",
              "      div.appendChild(label);\n",
              "      const progress = document.createElement('progress');\n",
              "      progress.max = size;\n",
              "      div.appendChild(progress);\n",
              "      document.body.appendChild(div);\n",
              "\n",
              "      const buffers = [];\n",
              "      let downloaded = 0;\n",
              "\n",
              "      const channel = await google.colab.kernel.comms.open(id);\n",
              "      // Send a message to notify the kernel that we're ready.\n",
              "      channel.send({})\n",
              "\n",
              "      for await (const message of channel.messages) {\n",
              "        // Send a message to notify the kernel that we're ready.\n",
              "        channel.send({})\n",
              "        if (message.buffers) {\n",
              "          for (const buffer of message.buffers) {\n",
              "            buffers.push(buffer);\n",
              "            downloaded += buffer.byteLength;\n",
              "            progress.value = downloaded;\n",
              "          }\n",
              "        }\n",
              "      }\n",
              "      const blob = new Blob(buffers, {type: 'application/binary'});\n",
              "      const a = document.createElement('a');\n",
              "      a.href = window.URL.createObjectURL(blob);\n",
              "      a.download = filename;\n",
              "      div.appendChild(a);\n",
              "      a.click();\n",
              "      div.remove();\n",
              "    }\n",
              "  "
            ],
            "text/plain": [
              "<IPython.core.display.Javascript object>"
            ]
          },
          "metadata": {
            "tags": []
          }
        },
        {
          "output_type": "display_data",
          "data": {
            "application/javascript": [
              "download(\"download_887c05e1-93a4-440e-8e1d-b5ea360cc741\", \"Histogram.png\", 218925)"
            ],
            "text/plain": [
              "<IPython.core.display.Javascript object>"
            ]
          },
          "metadata": {
            "tags": []
          }
        },
        {
          "output_type": "stream",
          "text": [
            "401\n",
            "\n",
            "\n",
            "\n",
            "202\n"
          ],
          "name": "stdout"
        },
        {
          "output_type": "display_data",
          "data": {
            "image/png": "[encoded data removed]",
            "text/plain": [
              "<Figure size 1296x2016 with 10 Axes>"
            ]
          },
          "metadata": {
            "tags": [],
            "needs_background": "light"
          }
        }
      ]
    },
    {
      "cell_type": "markdown",
      "metadata": {
        "id": "JpyBRt1GjcXD"
      },
      "source": [
        "# Conditional Entropy"
      ]
    },
    {
      "cell_type": "code",
      "metadata": {
        "id": "dWQfBpEBjev6",
        "outputId": "b1ff460e-1e30-43c9-875b-1c01e399a11a",
        "colab": {
          "base_uri": "https://localhost:8080/"
        }
      },
      "source": [
        "entropy = cndtEntropy(data[:,0],label,True)\n",
        "# print(entropy)\n",
        "\n",
        "features = ['Clump Thickness','Uniformity of Cell Size','Uniformity of Cell Shape','Marginal Adhesion',\n",
        "            'Single Epithelial Cell Size','Bare Nuclei','Bland Chromatin','Normal Nucleoli',\n",
        "            'Mitoses']\n",
        "for i in range(data.shape[1]):\n",
        "  entropy = cndtEntropy(data[:,i],label,False)\n",
        "  print(\"Feature \" + features[i] + \" entropy is: {}\".format(entropy))"
      ],
      "execution_count": 15,
      "outputs": [
        {
          "output_type": "stream",
          "text": [
            "Malignant number: 3\n",
            "Benign number: 123\n",
            "=========================\n",
            "Malignant number: 3\n",
            "Benign number: 37\n",
            "=========================\n",
            "Malignant number: 11\n",
            "Benign number: 86\n",
            "=========================\n",
            "Malignant number: 12\n",
            "Benign number: 60\n",
            "=========================\n",
            "Malignant number: 36\n",
            "Benign number: 78\n",
            "=========================\n",
            "Malignant number: 15\n",
            "Benign number: 12\n",
            "=========================\n",
            "Malignant number: 19\n",
            "Benign number: 1\n",
            "=========================\n",
            "Malignant number: 35\n",
            "Benign number: 4\n",
            "=========================\n",
            "Malignant number: 10\n",
            "Benign number: 0\n",
            "=========================\n",
            "Malignant number: 58\n",
            "Benign number: 0\n",
            "=========================\n",
            "[[0.16232618 0.20895522]\n",
            " [0.38431154 0.06633499]\n",
            " [0.51009308 0.16086235]\n",
            " [0.65002242 0.11940299]\n",
            " [0.89974376 0.18905473]\n",
            " [0.99107606 0.04477612]\n",
            " [0.28639696 0.0331675 ]\n",
            " [0.47707131 0.06467662]\n",
            " [0.         0.01658375]\n",
            " [0.         0.09618574]]\n",
            "1.0\n",
            "Feature Clump Thickness entropy is: 0.47391337645225295\n",
            "Feature Uniformity of Cell Size entropy is: 0.21066883738334902\n",
            "Feature Uniformity of Cell Shape entropy is: 0.23381960613391514\n",
            "Feature Marginal Adhesion entropy is: 0.4243215691640549\n",
            "Feature Single Epithelial Cell Size entropy is: 0.38291093098911816\n",
            "Feature Bare Nuclei entropy is: 0.2754898472623088\n",
            "Feature Bland Chromatin entropy is: 0.34437466727026655\n",
            "Feature Normal Nucleoli entropy is: 0.4426272454464289\n",
            "Feature Mitoses entropy is: 0.7009752320926029\n"
          ],
          "name": "stdout"
        }
      ]
    },
    {
      "cell_type": "markdown",
      "metadata": {
        "id": "VojgnA70AXER"
      },
      "source": [
        "# Decision trees and random forest"
      ]
    },
    {
      "cell_type": "markdown",
      "metadata": {
        "id": "CgjNyIj-ApwI"
      },
      "source": [
        "### Randomly shuffle data"
      ]
    },
    {
      "cell_type": "code",
      "metadata": {
        "id": "7uBis_MwAtAk"
      },
      "source": [
        "np.random.seed(0)\n",
        "index = np.random.permutation(data.shape[0])\n",
        "\n",
        "cvData = data[index]\n",
        "cvLabel = label[index]\n",
        "\n",
        "# cvTrain, cvTrainLabel, cvVal, cvValLabel = splitData(cvData,cvLabel,0)\n",
        "# print(cvVal)\n",
        "# # del sum\n",
        "# print(sum(cvData[:,0]))\n",
        "\n",
        "# print(sum(cvTrain[:,0])+sum(cvVal[:,0]))\n",
        "\n"
      ],
      "execution_count": null,
      "outputs": []
    },
    {
      "cell_type": "markdown",
      "metadata": {
        "id": "cx-_qqDvvCy-"
      },
      "source": [
        "### Decision tree"
      ]
    },
    {
      "cell_type": "code",
      "metadata": {
        "id": "J2bdp6YgvENK",
        "outputId": "ce3d77af-1fae-4b61-b5e5-5624e0515a89",
        "colab": {
          "base_uri": "https://localhost:8080/"
        }
      },
      "source": [
        "bestDepth = 1\n",
        "accPrev = 0\n",
        "for depth in range(1,6):\n",
        "  accCV = []\n",
        "  for i in range(5):\n",
        "    cvTrain, cvTrainLabel, cvVal, cvValLabel = splitData(cvData,cvLabel,i)\n",
        "\n",
        "    decisionTree = tree.DecisionTreeClassifier(max_depth=depth)\n",
        "    decisionTree = decisionTree.fit(cvTrain, cvTrainLabel)\n",
        "\n",
        "    predict = decisionTree.predict(cvVal)\n",
        "\n",
        "    acc = np.array([1 if predict[i] == cvValLabel[i] else 0 for i in range(len(predict))])\n",
        "    # print(acc.mean())\n",
        "    accCV.append(acc.mean())\n",
        "  \n",
        "  accCV = np.array(accCV)\n",
        "  print(\"Depth: {}\\nAccuracy of all trials: {}\\nAccuracy average over trials: {}\".format(depth,accCV,accCV.mean()))\n",
        "  print(\"===========================================================\")\n",
        "\n",
        "  if accCV.mean() > accPrev:\n",
        "    accPrev = accCV.mean()\n",
        "    bestDepth = depth\n",
        "  \n",
        "print(\"Highest accuracy depth: {}\".format(bestDepth))\n",
        "\n",
        "Tree = tree.DecisionTreeClassifier(max_depth=bestDepth)\n",
        "Tree = Tree.fit(cvData, cvLabel)\n",
        "predict = Tree.predict(dataTest)\n",
        "acc = np.array([1 if predict[i] == labelTest[i] else 0 for i in range(len(predict))])\n",
        "\n",
        "print(\"Accuracy on test set: {}\".format(acc.mean()))"
      ],
      "execution_count": null,
      "outputs": [
        {
          "output_type": "stream",
          "text": [
            "Depth: 1\n",
            "Accuracy of all trials: [0.99186992 0.91869919 0.95934959 0.87804878 0.93495935]\n",
            "Accuracy average over trials: 0.9365853658536585\n",
            "===========================================================\n",
            "Depth: 2\n",
            "Accuracy of all trials: [0.99186992 0.95121951 0.97560976 0.94308943 0.95934959]\n",
            "Accuracy average over trials: 0.9642276422764227\n",
            "===========================================================\n",
            "Depth: 3\n",
            "Accuracy of all trials: [0.96747967 0.95121951 0.96747967 0.94308943 0.95934959]\n",
            "Accuracy average over trials: 0.9577235772357723\n",
            "===========================================================\n",
            "Depth: 4\n",
            "Accuracy of all trials: [0.96747967 0.96747967 0.96747967 0.95121951 0.94308943]\n",
            "Accuracy average over trials: 0.959349593495935\n",
            "===========================================================\n",
            "Depth: 5\n",
            "Accuracy of all trials: [0.95934959 0.96747967 0.95934959 0.94308943 0.95121951]\n",
            "Accuracy average over trials: 0.9560975609756097\n",
            "===========================================================\n",
            "Highest accuracy depth: 2\n",
            "Accuracy on test set: 0.8875\n"
          ],
          "name": "stdout"
        }
      ]
    },
    {
      "cell_type": "markdown",
      "metadata": {
        "id": "fXhQiuCivodf"
      },
      "source": [
        "### Random forest"
      ]
    },
    {
      "cell_type": "code",
      "metadata": {
        "id": "08KOZHvwvseQ",
        "outputId": "f4985e3b-01be-4ec4-a173-36a7419f8f05",
        "colab": {
          "base_uri": "https://localhost:8080/"
        }
      },
      "source": [
        "bestDepth = 1\n",
        "bestNTree = 50\n",
        "accPrev = 0\n",
        "\n",
        "for depth, nTree in itertools.product(range(1,6),range(50,100,10)):\n",
        "  accCV = []\n",
        "  for i in range(5):\n",
        "    cvTrain, cvTrainLabel, cvVal, cvValLabel = splitData(cvData,cvLabel,i)\n",
        "    \n",
        "    randomForest = RandomForestClassifier(n_estimators=nTree,max_depth=depth)\n",
        "    randomForest.fit(cvTrain,cvTrainLabel)\n",
        "\n",
        "    predict = randomForest.predict(cvVal)\n",
        "\n",
        "    acc = np.array([1 if predict[i] == cvValLabel[i] else 0 for i in range(len(predict))])\n",
        "    accCV.append(acc.mean())\n",
        "\n",
        "  accCV = np.array(accCV)\n",
        "  print(\"Depth: {}\\nNumber of trees:{}\\n\".format(depth,nTree)+\n",
        "        \"Accuracy of all trials: {}\\nAccuracy average over trials: {}\".format(accCV,accCV.mean()))\n",
        "  print(\"===========================================================\")\n",
        "\n",
        "  if accCV.mean() > accPrev:\n",
        "    accPrev = accCV.mean()\n",
        "    bestDepth = depth\n",
        "    bestNTree = nTree\n",
        "\n",
        "print(\"Highest accuracy depth: {} and number of trees: {}\".format(bestDepth,bestNTree))\n",
        "print(\"Accuracy reached {}\".format(accPrev))\n",
        "print(\"==================================================\")\n",
        "\n",
        "forest = RandomForestClassifier(n_estimators=nTree,max_depth=depth)\n",
        "forest.fit(cvTrain,cvTrainLabel)\n",
        "predict = forest.predict(dataTest)\n",
        "acc = np.array([1 if predict[i] == labelTest[i] else 0 for i in range(len(predict))])\n",
        "print(\"Accuracy on test set: {}\".format(acc.mean()))"
      ],
      "execution_count": null,
      "outputs": [
        {
          "output_type": "stream",
          "text": [
            "Depth: 1\n",
            "Number of trees:50\n",
            "Accuracy of all trials: [0.99186992 0.91869919 0.96747967 0.94308943 0.95934959]\n",
            "Accuracy average over trials: 0.9560975609756097\n",
            "===========================================================\n",
            "Depth: 1\n",
            "Number of trees:60\n",
            "Accuracy of all trials: [0.99186992 0.92682927 0.98373984 0.94308943 0.97560976]\n",
            "Accuracy average over trials: 0.9642276422764228\n",
            "===========================================================\n",
            "Depth: 1\n",
            "Number of trees:70\n",
            "Accuracy of all trials: [0.99186992 0.91869919 0.97560976 0.93495935 0.96747967]\n",
            "Accuracy average over trials: 0.9577235772357724\n",
            "===========================================================\n",
            "Depth: 1\n",
            "Number of trees:80\n",
            "Accuracy of all trials: [0.99186992 0.93495935 0.97560976 0.94308943 0.97560976]\n",
            "Accuracy average over trials: 0.9642276422764228\n",
            "===========================================================\n",
            "Depth: 1\n",
            "Number of trees:90\n",
            "Accuracy of all trials: [0.99186992 0.95934959 0.97560976 0.93495935 0.97560976]\n",
            "Accuracy average over trials: 0.967479674796748\n",
            "===========================================================\n",
            "Depth: 2\n",
            "Number of trees:50\n",
            "Accuracy of all trials: [0.99186992 0.95121951 0.97560976 0.96747967 0.97560976]\n",
            "Accuracy average over trials: 0.9723577235772357\n",
            "===========================================================\n",
            "Depth: 2\n",
            "Number of trees:60\n",
            "Accuracy of all trials: [1.         0.95121951 0.98373984 0.95934959 0.97560976]\n",
            "Accuracy average over trials: 0.9739837398373984\n",
            "===========================================================\n",
            "Depth: 2\n",
            "Number of trees:70\n",
            "Accuracy of all trials: [1.         0.95121951 0.97560976 0.95121951 0.97560976]\n",
            "Accuracy average over trials: 0.9707317073170731\n",
            "===========================================================\n",
            "Depth: 2\n",
            "Number of trees:80\n",
            "Accuracy of all trials: [1.         0.95121951 0.98373984 0.95934959 0.97560976]\n",
            "Accuracy average over trials: 0.9739837398373984\n",
            "===========================================================\n",
            "Depth: 2\n",
            "Number of trees:90\n",
            "Accuracy of all trials: [0.99186992 0.95121951 0.98373984 0.95934959 0.96747967]\n",
            "Accuracy average over trials: 0.9707317073170731\n",
            "===========================================================\n",
            "Depth: 3\n",
            "Number of trees:50\n",
            "Accuracy of all trials: [1.         0.95121951 0.97560976 0.96747967 0.96747967]\n",
            "Accuracy average over trials: 0.9723577235772358\n",
            "===========================================================\n",
            "Depth: 3\n",
            "Number of trees:60\n",
            "Accuracy of all trials: [1.         0.95121951 0.98373984 0.95934959 0.96747967]\n",
            "Accuracy average over trials: 0.9723577235772358\n",
            "===========================================================\n",
            "Depth: 3\n",
            "Number of trees:70\n",
            "Accuracy of all trials: [1.         0.95121951 0.98373984 0.95934959 0.97560976]\n",
            "Accuracy average over trials: 0.9739837398373984\n",
            "===========================================================\n",
            "Depth: 3\n",
            "Number of trees:80\n",
            "Accuracy of all trials: [1.         0.95121951 0.98373984 0.95934959 0.96747967]\n",
            "Accuracy average over trials: 0.9723577235772358\n",
            "===========================================================\n",
            "Depth: 3\n",
            "Number of trees:90\n",
            "Accuracy of all trials: [1.         0.95121951 0.98373984 0.95934959 0.97560976]\n",
            "Accuracy average over trials: 0.9739837398373984\n",
            "===========================================================\n",
            "Depth: 4\n",
            "Number of trees:50\n",
            "Accuracy of all trials: [1.         0.95121951 0.98373984 0.96747967 0.98373984]\n",
            "Accuracy average over trials: 0.9772357723577235\n",
            "===========================================================\n",
            "Depth: 4\n",
            "Number of trees:60\n",
            "Accuracy of all trials: [1.         0.95121951 0.98373984 0.97560976 0.97560976]\n",
            "Accuracy average over trials: 0.9772357723577236\n",
            "===========================================================\n",
            "Depth: 4\n",
            "Number of trees:70\n",
            "Accuracy of all trials: [1.         0.95121951 0.98373984 0.96747967 0.96747967]\n",
            "Accuracy average over trials: 0.9739837398373984\n",
            "===========================================================\n",
            "Depth: 4\n",
            "Number of trees:80\n",
            "Accuracy of all trials: [1.         0.95121951 0.98373984 0.95934959 0.95934959]\n",
            "Accuracy average over trials: 0.9707317073170731\n",
            "===========================================================\n",
            "Depth: 4\n",
            "Number of trees:90\n",
            "Accuracy of all trials: [1.         0.95121951 0.98373984 0.95934959 0.97560976]\n",
            "Accuracy average over trials: 0.9739837398373984\n",
            "===========================================================\n",
            "Depth: 5\n",
            "Number of trees:50\n",
            "Accuracy of all trials: [1.         0.95121951 0.98373984 0.95934959 0.97560976]\n",
            "Accuracy average over trials: 0.9739837398373984\n",
            "===========================================================\n",
            "Depth: 5\n",
            "Number of trees:60\n",
            "Accuracy of all trials: [1.         0.95121951 0.98373984 0.95121951 0.97560976]\n",
            "Accuracy average over trials: 0.9723577235772357\n",
            "===========================================================\n",
            "Depth: 5\n",
            "Number of trees:70\n",
            "Accuracy of all trials: [1.         0.95121951 0.98373984 0.95934959 0.97560976]\n",
            "Accuracy average over trials: 0.9739837398373984\n",
            "===========================================================\n",
            "Depth: 5\n",
            "Number of trees:80\n",
            "Accuracy of all trials: [1.         0.95121951 0.98373984 0.96747967 0.96747967]\n",
            "Accuracy average over trials: 0.9739837398373984\n",
            "===========================================================\n",
            "Depth: 5\n",
            "Number of trees:90\n",
            "Accuracy of all trials: [1.         0.95121951 0.98373984 0.95121951 0.97560976]\n",
            "Accuracy average over trials: 0.9723577235772357\n",
            "===========================================================\n",
            "Highest accuracy depth: 4 and number of trees: 60\n",
            "Accuracy reached 0.9772357723577236\n",
            "==================================================\n",
            "Accuracy on test set: 0.9125\n"
          ],
          "name": "stdout"
        }
      ]
    },
    {
      "cell_type": "markdown",
      "metadata": {
        "id": "IluWtAakbHEx"
      },
      "source": [
        "# Data test"
      ]
    },
    {
      "cell_type": "code",
      "metadata": {
        "id": "i8Nbm2YxbK0w",
        "outputId": "dcf90740-84d6-4be2-fa92-3d3b0a2ed4e8",
        "colab": {
          "base_uri": "https://localhost:8080/"
        }
      },
      "source": [
        "# np.unique(label)\n",
        "index = np.where(data[:,0]==9)[0]\n",
        "print(data[index,0])\n",
        "# print(data[[0,1],0])\n",
        "print(label[index])\n",
        "# print(len(np.where(label[index]==2)[0]))\n",
        "\n",
        "x = np.array([[1,2],[3,4],[5,6]])\n",
        "# sum = 0\n",
        "# for line in x:\n",
        "#   sum = sum+line[0]*line[1]\n",
        "# print(sum)\n",
        "\n",
        "y = np.matmul(x[:,0],x[:,1])\n",
        "print(y)\n",
        "\n",
        "x[:,1] = x[:,1]/2\n",
        "print(x)\n",
        "print(math.log(0.023809523809523808))\n",
        "\n",
        "x = np.floor(3.7)\n",
        "print(x)\n",
        "print(data[3:(int(x)+1),:])"
      ],
      "execution_count": null,
      "outputs": [
        {
          "output_type": "stream",
          "text": [
            "[9. 9. 9. 9. 9. 9. 9. 9. 9. 9.]\n",
            "[4. 4. 4. 4. 4. 4. 4. 4. 4. 4.]\n",
            "44\n",
            "[[1 1]\n",
            " [3 2]\n",
            " [5 3]]\n",
            "-3.7376696182833684\n",
            "3.0\n",
            "[[ 5. 10.  6.  1. 10.  4.  4. 10. 10.]]\n"
          ],
          "name": "stdout"
        }
      ]
    },
    {
      "cell_type": "code",
      "metadata": {
        "id": "tSeXlUEaZWDW",
        "outputId": "8c3a485e-9874-45d7-e4f0-bd87fc3551ec",
        "colab": {
          "base_uri": "https://localhost:8080/"
        }
      },
      "source": [
        "A = np.array([[1,2],[3,4],[5,6]])\n",
        "B = np.array([[3,4]])\n",
        "\n",
        "print([x for x in A if x not in B])"
      ],
      "execution_count": null,
      "outputs": [
        {
          "output_type": "stream",
          "text": [
            "[array([1, 2]), array([5, 6])]\n"
          ],
          "name": "stdout"
        }
      ]
    },
    {
      "cell_type": "code",
      "metadata": {
        "id": "K_czVzVkUCz7",
        "outputId": "8eecce40-084e-490b-ea9d-5cf8358a50a8",
        "colab": {
          "base_uri": "https://localhost:8080/"
        }
      },
      "source": [
        "x = np.where(data[:,0]==3)[0]\n",
        "print(x)\n",
        "print(len(x))\n",
        "print(label[x])\n",
        "print(np.array([label[x[i]] for i in range(len(x))]))\n",
        "y = np.where(label[x]==2)[0]\n",
        "print(len(y))"
      ],
      "execution_count": null,
      "outputs": [
        {
          "output_type": "stream",
          "text": [
            "[  1   2   4   5   9  32  37  45  51  52  55  57  62  64  77  82  84 108\n",
            " 113 148 154 168 169 170 179 184 186 187 191 198 217 228 231 254 258 267\n",
            " 268 280 284 288 291 298 301 302 304 306 307 309 315 320 325 329 338 357\n",
            " 366 375 380 391 393 400 410 418 423 429 430 438 446 453 455 457 459 468\n",
            " 471 477 488 503 505 521 524 529 538 539 545 546 549 553 554 558 559 568\n",
            " 571 574 575 591 596 597 598]\n",
            "97\n",
            "[2. 4. 4. 4. 2. 2. 2. 2. 2. 2. 2. 2. 4. 2. 2. 2. 2. 2. 2. 2. 2. 2. 2. 2.\n",
            " 4. 4. 2. 2. 2. 2. 2. 2. 2. 4. 2. 4. 2. 2. 2. 2. 2. 2. 2. 2. 2. 4. 2. 2.\n",
            " 2. 2. 2. 2. 2. 2. 2. 2. 2. 2. 4. 2. 2. 2. 2. 2. 2. 2. 2. 2. 2. 2. 2. 2.\n",
            " 2. 2. 2. 2. 2. 2. 2. 2. 2. 2. 2. 2. 2. 2. 2. 2. 2. 2. 2. 4. 2. 2. 2. 2.\n",
            " 2.]\n",
            "[2. 4. 4. 4. 2. 2. 2. 2. 2. 2. 2. 2. 4. 2. 2. 2. 2. 2. 2. 2. 2. 2. 2. 2.\n",
            " 4. 4. 2. 2. 2. 2. 2. 2. 2. 4. 2. 4. 2. 2. 2. 2. 2. 2. 2. 2. 2. 4. 2. 2.\n",
            " 2. 2. 2. 2. 2. 2. 2. 2. 2. 2. 4. 2. 2. 2. 2. 2. 2. 2. 2. 2. 2. 2. 2. 2.\n",
            " 2. 2. 2. 2. 2. 2. 2. 2. 2. 2. 2. 2. 2. 2. 2. 2. 2. 2. 2. 4. 2. 2. 2. 2.\n",
            " 2.]\n",
            "86\n"
          ],
          "name": "stdout"
        }
      ]
    },
    {
      "cell_type": "code",
      "metadata": {
        "id": "AnrjIU8fixN-",
        "outputId": "aab386fd-b679-40de-d993-aa50ee36940d",
        "colab": {
          "base_uri": "https://localhost:8080/"
        }
      },
      "source": [
        "patr = np.array([1,1,2,2,2,2,3,3,3,3,3,3])\n",
        "types = np.array([1,1,2,2,3,3,3,3,4,4,4,4])\n",
        "lists1 = np.array([4,4,2,2,2,2,2,2,4,4,4,4])\n",
        "lists2 = np.array([2,4,2,4,2,2,4,4,2,2,4,4])\n",
        "x = cndtEntropy(patr,lists1,True)\n",
        "y = cndtEntropy(types,lists2,True)\n",
        "print(\"x,y:{} {}\".format(x,y))\n",
        "# print(4/6*np.log(4/6)+2/6*np.log(2/6))"
      ],
      "execution_count": 7,
      "outputs": [
        {
          "output_type": "stream",
          "text": [
            "Malignant number: 2\n",
            "Benign number: 0\n",
            "=========================\n",
            "Malignant number: 0\n",
            "Benign number: 4\n",
            "=========================\n",
            "Malignant number: 4\n",
            "Benign number: 2\n",
            "=========================\n",
            "[[0.         0.16666667]\n",
            " [0.         0.33333333]\n",
            " [0.91829583 0.5       ]]\n",
            "1.0\n",
            "Malignant number: 1\n",
            "Benign number: 1\n",
            "=========================\n",
            "Malignant number: 1\n",
            "Benign number: 1\n",
            "=========================\n",
            "Malignant number: 2\n",
            "Benign number: 2\n",
            "=========================\n",
            "Malignant number: 2\n",
            "Benign number: 2\n",
            "=========================\n",
            "[[1.         0.16666667]\n",
            " [1.         0.16666667]\n",
            " [1.         0.33333333]\n",
            " [1.         0.33333333]]\n",
            "1.0\n",
            "x,y:0.4591479170272448 1.0\n"
          ],
          "name": "stdout"
        }
      ]
    }
  ]
}